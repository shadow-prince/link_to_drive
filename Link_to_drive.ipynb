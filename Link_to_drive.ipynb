{
  "nbformat": 4,
  "nbformat_minor": 0,
  "metadata": {
    "colab": {
      "name": "Link to drive.ipynb",
      "provenance": [],
      "include_colab_link": true
    },
    "kernelspec": {
      "name": "python3",
      "display_name": "Python 3"
    },
    "accelerator": "GPU"
  },
  "cells": [
    {
      "cell_type": "markdown",
      "metadata": {
        "id": "view-in-github",
        "colab_type": "text"
      },
      "source": [
        "<a href=\"https://colab.research.google.com/github/shadow-prince/link_to_drive/blob/master/Link_to_drive.ipynb\" target=\"_parent\"><img src=\"https://colab.research.google.com/assets/colab-badge.svg\" alt=\"Open In Colab\"/></a>"
      ]
    },
    {
      "cell_type": "markdown",
      "metadata": {
        "id": "e3hrQVI7JXR0",
        "colab_type": "text"
      },
      "source": [
        "# Sign in to Google Colab and Create a new Python3 notebook."
      ]
    },
    {
      "cell_type": "code",
      "metadata": {
        "id": "TOVaNpbxJcuu",
        "colab_type": "code",
        "colab": {}
      },
      "source": [
        "from google.colab import drive \n",
        "drive.mount('/content/gdrive') \n"
      ],
      "execution_count": 0,
      "outputs": []
    },
    {
      "cell_type": "markdown",
      "metadata": {
        "id": "QbNlvIn8Js-u",
        "colab_type": "text"
      },
      "source": [
        "# Download to Google Drive\n",
        "\n",
        "> Paste the url\n",
        "\n"
      ]
    },
    {
      "cell_type": "code",
      "metadata": {
        "id": "xawUKYliKZhU",
        "colab_type": "code",
        "colab": {}
      },
      "source": [
        "import requests \n",
        "file_url = \"http://103.126.12.226/Data/disk1/Movies/Hollywood/2016_2017/Why%20Him%20%282016%29/Why%20Him%202016%20720p%20WEBRip%20800%20_BDPLEX.mp4\" #paste the url here\n",
        "\t\n",
        "r = requests.get(file_url, stream = True) \n",
        "\n",
        "with open(\"/content/gdrive/My Drive/whyhim.mp4\", \"wb\") as file: \n",
        "\tfor block in r.iter_content(chunk_size = 1024): \n",
        "\t\tif block: \n",
        "\t\t\tfile.write(block) \n"
      ],
      "execution_count": 0,
      "outputs": []
    }
  ]
}